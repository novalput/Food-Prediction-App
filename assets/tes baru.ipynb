{
 "cells": [
  {
   "cell_type": "code",
   "execution_count": null,
   "id": "75afd528-e2d4-4582-a02f-e4c07b061bba",
   "metadata": {},
   "outputs": [],
   "source": [
    "import numpy as np # type: ignore\n",
    "import tensorflow as tf # type: ignore\n",
    "from PIL import Image # type: ignore"
   ]
  },
  {
   "cell_type": "code",
   "execution_count": 47,
   "id": "738815df-94d3-41b3-9676-70dba4d5cd69",
   "metadata": {},
   "outputs": [],
   "source": [
    "# Muat model TFLite\n",
    "interpreter = tf.lite.Interpreter(model_path=\"food_classifier_flex.tflite\")\n",
    "interpreter.allocate_tensors()"
   ]
  },
  {
   "cell_type": "code",
   "execution_count": 48,
   "id": "b0cfaee7-7316-41e8-9b18-35020203a16c",
   "metadata": {},
   "outputs": [],
   "source": [
    "# Info input/output\n",
    "input_details = interpreter.get_input_details()\n",
    "output_details = interpreter.get_output_details()"
   ]
  },
  {
   "cell_type": "code",
   "execution_count": 49,
   "id": "a78eaacd-b847-411c-97c3-559636960b8e",
   "metadata": {},
   "outputs": [],
   "source": [
    "# Ukuran input yang diharapkan model\n",
    "input_shape = input_details[0]['shape']  # contoh: [1, 224, 224, 3]"
   ]
  },
  {
   "cell_type": "code",
   "execution_count": 50,
   "id": "6b10c2be-5ed4-40b8-ba00-46ba5f600b2e",
   "metadata": {},
   "outputs": [],
   "source": [
    "# Fungsi untuk load dan preprocessing gambar\n",
    "def load_image(image_path):\n",
    "    image = Image.open(image_path).convert('RGB')\n",
    "    image = image.resize((input_shape[1], input_shape[2]))\n",
    "    input_data = np.expand_dims(image, axis=0).astype(np.float32)\n",
    "    # Normalisasi (jika model butuh), sesuaikan dengan model kamu!\n",
    "    input_data = input_data / 255.0\n",
    "    return input_data"
   ]
  },
  {
   "cell_type": "code",
   "execution_count": 51,
   "id": "10e6cb1b-1388-47d8-be37-5f6dbb046444",
   "metadata": {},
   "outputs": [],
   "source": [
    "# Fungsi untuk memuat label dari file txt\n",
    "def load_labels(filename):\n",
    "    with open(filename, \"r\") as f:\n",
    "        return [line.strip() for line in f.readlines()]"
   ]
  },
  {
   "cell_type": "code",
   "execution_count": 52,
   "id": "9cd37ac9-e032-47b3-b942-93730d00f533",
   "metadata": {},
   "outputs": [],
   "source": [
    "# Load label\n",
    "labels = load_labels(\"labels.txt\")"
   ]
  },
  {
   "cell_type": "code",
   "execution_count": 68,
   "id": "cf85c63c-92ae-4506-a14f-586ad865789a",
   "metadata": {},
   "outputs": [],
   "source": [
    "# Masukkan gambar\n",
    "input_data = load_image(\"tonkotsu.jpg\")\n",
    "interpreter.set_tensor(input_details[0]['index'], input_data)"
   ]
  },
  {
   "cell_type": "code",
   "execution_count": 69,
   "id": "b5544261-9e94-400f-b93d-d6b27a5ed89e",
   "metadata": {},
   "outputs": [],
   "source": [
    "# Jalankan inferensi\n",
    "interpreter.invoke()"
   ]
  },
  {
   "cell_type": "code",
   "execution_count": 70,
   "id": "1ac26e52-c939-4914-845a-b76515a6c234",
   "metadata": {},
   "outputs": [],
   "source": [
    "# Ambil hasil output\n",
    "output_data = interpreter.get_tensor(output_details[0]['index'])[0]\n",
    "predicted_index = np.argmax(output_data)\n",
    "predicted_label = labels[predicted_index]\n",
    "confidence = output_data[predicted_index]"
   ]
  },
  {
   "cell_type": "code",
   "execution_count": 71,
   "id": "688064de-9c4e-450a-9fd3-a43a01ff2fe2",
   "metadata": {},
   "outputs": [
    {
     "name": "stdout",
     "output_type": "stream",
     "text": [
      "Prediksi: Ramen (Confidence: 0.89)\n"
     ]
    }
   ],
   "source": [
    "print(f\"Prediksi: {predicted_label} (Confidence: {confidence:.2f})\")"
   ]
  },
  {
   "cell_type": "code",
   "execution_count": 72,
   "id": "bc06b9a3-97f7-413d-aacc-e471b68d9be1",
   "metadata": {},
   "outputs": [
    {
     "name": "stdout",
     "output_type": "stream",
     "text": [
      "Ramen: 89.01%\n",
      "Bibimbap: 10.56%\n",
      "Gyoza: 0.05%\n",
      "Huevos rancheros: 0.04%\n",
      "Croque madame: 0.03%\n"
     ]
    }
   ],
   "source": [
    "# Cetak Top-5\n",
    "top_k = 5\n",
    "top_indices = output_data.argsort()[-top_k:][::-1]\n",
    "for i in top_indices:\n",
    "    print(f\"{labels[i]}: {output_data[i]*100:.2f}%\")"
   ]
  },
  {
   "cell_type": "code",
   "execution_count": null,
   "id": "75bdea30-ad79-4840-b457-bc38e6e47131",
   "metadata": {},
   "outputs": [],
   "source": []
  }
 ],
 "metadata": {
  "kernelspec": {
   "display_name": "Python 3 (ipykernel)",
   "language": "python",
   "name": "python3"
  },
  "language_info": {
   "codemirror_mode": {
    "name": "ipython",
    "version": 3
   },
   "file_extension": ".py",
   "mimetype": "text/x-python",
   "name": "python",
   "nbconvert_exporter": "python",
   "pygments_lexer": "ipython3",
   "version": "3.10.16"
  }
 },
 "nbformat": 4,
 "nbformat_minor": 5
}
